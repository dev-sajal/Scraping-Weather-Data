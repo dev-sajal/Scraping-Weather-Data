{
 "cells": [
  {
   "cell_type": "markdown",
   "metadata": {},
   "source": [
    "## Welcome to your first casestudy\n",
    "- In this case study you have to scrape weather data from the website  **\"http://www.estesparkweather.net/archive_reports.php?date=200901\"**\n",
    "- Scrape all the available attributes of weather data for each day from **2009-01-01 to 2018-10-28**\n",
    "- Ignore records for missing days\n",
    "- Represent the scraped data as **pandas dataframe** object."
   ]
  },
  {
   "cell_type": "markdown",
   "metadata": {},
   "source": [
    "### Dataframe specific deatails\n",
    "- Expected column names (order dose not matter):   \n",
    "       ['Average temperature (°F)', 'Average humidity (%)',\n",
    "       'Average dewpoint (°F)', 'Average barometer (in)',\n",
    "       'Average windspeed (mph)', 'Average gustspeed (mph)',\n",
    "       'Average direction (°deg)', 'Rainfall for month (in)',\n",
    "       'Rainfall for year (in)', 'Maximum rain per minute',\n",
    "       'Maximum temperature (°F)', 'Minimum temperature (°F)',\n",
    "       'Maximum humidity (%)', 'Minimum humidity (%)', 'Maximum pressure',\n",
    "       'Minimum pressure', 'Maximum windspeed (mph)',\n",
    "       'Maximum gust speed (mph)', 'Maximum heat index (°F)']\n",
    "- Each record in the dataframe corresponds to weather deatils of a given day\n",
    "- Make sure the index column is **date-time format (yyyy-mm-dd)**\n",
    "- Perform necessary data cleaning and type cast each attributes to relevent data type"
   ]
  },
  {
   "cell_type": "markdown",
   "metadata": {},
   "source": [
    "### Saving the dataframe\n",
    "- Once you are done with you scrapping save your dataframe as pickle file by name 'dataframe.pk'\n",
    "\n",
    "#### Sample code to save pickle file\n",
    "```python\n",
    "import pickle\n",
    "with open(\"dataframe.pk\", \"wb\") as file:\n",
    "    pickle.dump(<your_dataframe>, file)\n",
    "```\n",
    " \n",
    " "
   ]
  },
  {
   "cell_type": "markdown",
   "metadata": {},
   "source": [
    "### Run the below cell to import necessary packages\n",
    "- These packages should be sufficient to perform you task\n",
    "- In case if you are looking are any other packages run **!pip3 install <package_name> --user with in a cell**"
   ]
  },
  {
   "cell_type": "code",
   "execution_count": 1,
   "metadata": {},
   "outputs": [],
   "source": [
    "import pandas as pd\n",
    "import pickle"
   ]
  },
  {
   "cell_type": "code",
   "execution_count": 2,
   "metadata": {},
   "outputs": [],
   "source": [
    "columns =  ['Average temperature (°F)', 'Average humidity (%)',\n",
    " 'Average dewpoint (°F)', 'Average barometer (in)',\n",
    " 'Average windspeed (mph)', 'Average gustspeed (mph)',\n",
    " 'Average direction (°deg)', 'Rainfall for month (in)',\n",
    " 'Rainfall for year (in)', 'Maximum rain per minute',\n",
    " 'Maximum temperature (°F)', 'Minimum temperature (°F)',\n",
    " 'Maximum humidity (%)', 'Minimum humidity (%)', 'Maximum pressure',\n",
    " 'Minimum pressure', 'Maximum windspeed (mph)',\n",
    " 'Maximum gust speed (mph)', 'Maximum heat index (°F)']\n",
    "\n",
    "columns_mapper = {i: column for i, column in enumerate(columns, 1)}"
   ]
  },
  {
   "cell_type": "code",
   "execution_count": 3,
   "metadata": {},
   "outputs": [],
   "source": [
    "dates_index = pd.date_range(start=\"2009-01-01\", end=\"2018-11-01\", freq='M')\n",
    "dates_parsed = [(str(date.year), \"{:0>2}\".format(date.month)) for date in dates_index]"
   ]
  },
  {
   "cell_type": "code",
   "execution_count": 4,
   "metadata": {},
   "outputs": [],
   "source": [
    "def process(table, year, month):\n",
    "    translator = str.maketrans(\"\", \"\", \"°F%°\")\n",
    "    table.loc[1:, 1] = table.loc[1:, 1].str.split().apply(lambda x: x[0].translate(translator))\n",
    "    table.loc[0, 1] = \"{}-{}-{:0>2}\".format(year, month, table.loc[0, 0].split()[1])\n",
    "    table = table.T.drop(0).set_index(0)\n",
    "    return table"
   ]
  },
  {
   "cell_type": "code",
   "execution_count": 5,
   "metadata": {},
   "outputs": [],
   "source": [
    "def filter_criterion(table):\n",
    "    if table.shape == (len(columns)+1, 2):\n",
    "        try:\n",
    "            int(table.loc[0, 0].split()[1])\n",
    "            return True\n",
    "        except ValueError:\n",
    "            return False\n",
    "    else:\n",
    "        return False"
   ]
  },
  {
   "cell_type": "code",
   "execution_count": 6,
   "metadata": {},
   "outputs": [],
   "source": [
    "def data_for_month(year, month):\n",
    "    data = pd.DataFrame()\n",
    "    url = \"http://www.estesparkweather.net/archive_reports.php?date={}\"\n",
    "    for table in pd.read_html(url.format(year+month)):\n",
    "        if filter_criterion(table):\n",
    "            table = process(table, year, month)\n",
    "            if not table.empty:\n",
    "                data = pd.concat([data, table])\n",
    "    return data"
   ]
  },
  {
   "cell_type": "code",
   "execution_count": 7,
   "metadata": {},
   "outputs": [
    {
     "name": "stdout",
     "output_type": "stream",
     "text": [
      "200901: 31 days\n",
      "200902: 28 days\n",
      "200903: 28 days\n",
      "200904: 30 days\n",
      "200905: 31 days\n",
      "200906: 30 days\n",
      "200907: 31 days\n",
      "200908: 31 days\n",
      "200909: 30 days\n",
      "200910: 31 days\n",
      "200911: 30 days\n",
      "200912: 0 days\n",
      "201001: 31 days\n",
      "201002: 28 days\n",
      "201003: 31 days\n",
      "201004: 30 days\n",
      "201005: 30 days\n",
      "201006: 30 days\n",
      "201007: 30 days\n",
      "201008: 31 days\n",
      "201009: 29 days\n",
      "201010: 31 days\n",
      "201011: 30 days\n",
      "201012: 30 days\n",
      "201101: 31 days\n",
      "201102: 28 days\n",
      "201103: 3 days\n",
      "201104: 4 days\n",
      "201105: 31 days\n",
      "201106: 30 days\n",
      "201107: 18 days\n",
      "201108: 31 days\n",
      "201109: 4 days\n",
      "201110: 31 days\n",
      "201111: 29 days\n",
      "201112: 10 days\n",
      "201201: 31 days\n",
      "201202: 0 days\n",
      "201203: 31 days\n",
      "201204: 30 days\n",
      "201205: 31 days\n",
      "201206: 30 days\n",
      "201207: 31 days\n",
      "201208: 31 days\n",
      "201209: 30 days\n",
      "201210: 31 days\n",
      "201211: 30 days\n",
      "201212: 31 days\n",
      "201301: 31 days\n",
      "201302: 28 days\n",
      "201303: 31 days\n",
      "201304: 30 days\n",
      "201305: 26 days\n",
      "201306: 30 days\n",
      "201307: 7 days\n",
      "201308: 31 days\n",
      "201309: 14 days\n",
      "201310: 31 days\n",
      "201311: 30 days\n",
      "201312: 31 days\n",
      "201401: 31 days\n",
      "201402: 28 days\n",
      "201403: 31 days\n",
      "201404: 26 days\n",
      "201405: 29 days\n",
      "201406: 30 days\n",
      "201407: 31 days\n",
      "201408: 31 days\n",
      "201409: 28 days\n",
      "201410: 31 days\n",
      "201411: 30 days\n",
      "201412: 31 days\n",
      "201501: 31 days\n",
      "201502: 28 days\n",
      "201503: 31 days\n",
      "201504: 30 days\n",
      "201505: 17 days\n",
      "201506: 30 days\n",
      "201507: 31 days\n",
      "201508: 31 days\n",
      "201509: 30 days\n",
      "201510: 31 days\n",
      "201511: 30 days\n",
      "201512: 31 days\n",
      "201601: 31 days\n",
      "201602: 29 days\n",
      "201603: 31 days\n",
      "201604: 30 days\n",
      "201605: 31 days\n",
      "201606: 30 days\n",
      "201607: 31 days\n",
      "201608: 31 days\n",
      "201609: 30 days\n",
      "201610: 31 days\n",
      "201611: 30 days\n",
      "201612: 31 days\n",
      "201701: 31 days\n",
      "201702: 22 days\n",
      "201703: 31 days\n",
      "201704: 21 days\n",
      "201705: 18 days\n",
      "201706: 29 days\n",
      "201707: 31 days\n",
      "201708: 31 days\n",
      "201709: 30 days\n",
      "201710: 31 days\n",
      "201711: 30 days\n",
      "201712: 31 days\n",
      "201801: 31 days\n",
      "201802: 27 days\n",
      "201803: 9 days\n",
      "201804: 30 days\n",
      "201805: 31 days\n",
      "201806: 30 days\n",
      "201807: 26 days\n",
      "201808: 31 days\n",
      "201809: 28 days\n",
      "201810: 31 days\n"
     ]
    }
   ],
   "source": [
    "global_data = pd.DataFrame()\n",
    "for (year, month) in dates_parsed:\n",
    "    data = data_for_month(year, month)\n",
    "    print(\"{}: {} days\".format(year+month, data.shape[0]))\n",
    "    global_data = pd.concat([global_data, data])"
   ]
  },
  {
   "cell_type": "code",
   "execution_count": 8,
   "metadata": {},
   "outputs": [],
   "source": [
    "global_data.rename(columns=columns_mapper, inplace=True)\n",
    "global_data.index = pd.to_datetime(global_data.index.rename(\"Day\"))\n",
    "global_data = global_data.drop(global_data.tail(3).index)"
   ]
  },
  {
   "cell_type": "code",
   "execution_count": 9,
   "metadata": {},
   "outputs": [
    {
     "data": {
      "text/plain": [
       "(3280, 19)"
      ]
     },
     "execution_count": 9,
     "metadata": {},
     "output_type": "execute_result"
    }
   ],
   "source": [
    "global_data.shape"
   ]
  },
  {
   "cell_type": "code",
   "execution_count": 10,
   "metadata": {},
   "outputs": [
    {
     "data": {
      "text/plain": [
       "Average temperature (°F)    float64\n",
       "Average humidity (%)        float64\n",
       "Average dewpoint (°F)       float64\n",
       "Average barometer (in)      float64\n",
       "Average windspeed (mph)     float64\n",
       "Average gustspeed (mph)     float64\n",
       "Average direction (°deg)    float64\n",
       "Rainfall for month (in)     float64\n",
       "Rainfall for year (in)      float64\n",
       "Maximum rain per minute     float64\n",
       "Maximum temperature (°F)    float64\n",
       "Minimum temperature (°F)    float64\n",
       "Maximum humidity (%)        float64\n",
       "Minimum humidity (%)        float64\n",
       "Maximum pressure            float64\n",
       "Minimum pressure            float64\n",
       "Maximum windspeed (mph)     float64\n",
       "Maximum gust speed (mph)    float64\n",
       "Maximum heat index (°F)     float64\n",
       "dtype: object"
      ]
     },
     "execution_count": 10,
     "metadata": {},
     "output_type": "execute_result"
    }
   ],
   "source": [
    "global_data = global_data.astype('float')\n",
    "global_data.dtypes"
   ]
  },
  {
   "cell_type": "code",
   "execution_count": 11,
   "metadata": {},
   "outputs": [],
   "source": [
    "with open(\"dataframe.pk\", \"wb\") as file:\n",
    "    pickle.dump(global_data, file)"
   ]
  }
 ],
 "metadata": {
  "kernelspec": {
   "display_name": "Python 3",
   "language": "python",
   "name": "python3"
  },
  "language_info": {
   "codemirror_mode": {
    "name": "ipython",
    "version": 3
   },
   "file_extension": ".py",
   "mimetype": "text/x-python",
   "name": "python",
   "nbconvert_exporter": "python",
   "pygments_lexer": "ipython3",
   "version": "3.5.2"
  }
 },
 "nbformat": 4,
 "nbformat_minor": 2
}
